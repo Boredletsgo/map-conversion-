{
 "cells": [
  {
   "cell_type": "code",
   "execution_count": 1,
   "id": "fa240be3",
   "metadata": {
    "scrolled": true
   },
   "outputs": [
    {
     "name": "stdout",
     "output_type": "stream",
     "text": [
      "Saved tile: tile_0.dds\n",
      "Saved tile: tile_1.dds\n",
      "Saved tile: tile_2.dds\n",
      "Saved tile: tile_3.dds\n",
      "Saved tile: tile_4.dds\n",
      "Saved tile: tile_5.dds\n",
      "Saved tile: tile_6.dds\n",
      "Saved tile: tile_7.dds\n",
      "Saved tile: tile_8.dds\n",
      "Saved tile: tile_9.dds\n",
      "Saved tile: tile_10.dds\n",
      "Saved tile: tile_11.dds\n",
      "Saved tile: tile_12.dds\n",
      "Saved tile: tile_13.dds\n",
      "Saved tile: tile_14.dds\n",
      "Saved tile: tile_15.dds\n",
      "Saved tile: tile_16.dds\n",
      "Saved tile: tile_17.dds\n",
      "Saved tile: tile_18.dds\n",
      "Saved tile: tile_19.dds\n"
     ]
    }
   ],
   "source": [
    "from PIL import Image\n",
    "\n",
    "def split_into_tiles(image_path, tile_size):\n",
    "    img = Image.open(image_path)\n",
    "    width, height = img.size\n",
    "    x, y = 0, 0\n",
    "    tile_number = 0\n",
    "\n",
    "    while y < height:\n",
    "        while x < width:\n",
    "            box = (x, y, x + tile_size, y + tile_size)\n",
    "            tile = img.crop(box)\n",
    "            tile_filename = f\"tile_{tile_number}.dds\"\n",
    "            tile.save(tile_filename)\n",
    "            print(f\"Saved tile: {tile_filename}\")\n",
    "            x += tile_size\n",
    "            tile_number += 1\n",
    "        y += tile_size\n",
    "        x = 0\n",
    "\n",
    "if __name__ == \"__main__\":\n",
    "    image_path = r\"Path to the dds image\"\n",
    "    tile_size = 256\n",
    "    split_into_tiles(image_path, tile_size)\n",
    "\n"
   ]
  },
  {
   "cell_type": "code",
   "execution_count": 1,
   "id": "b8704c74",
   "metadata": {},
   "outputs": [],
   "source": [
    "from PIL import Image, ImageTk\n",
    "import tkinter as tk\n",
    "\n",
    "def split_into_tiles(image_path, tile_size):\n",
    "    img = Image.open(image_path)\n",
    "    width, height = img.size\n",
    "    x, y = 0, 0\n",
    "    tile_number = 0\n",
    "\n",
    "    # Create a Tkinter window\n",
    "    root = tk.Tk()\n",
    "    root.title(\"Tile Viewer\")\n",
    "\n",
    "    while y < height:\n",
    "        while x < width:\n",
    "            box = (x, y, x + tile_size, y + tile_size)\n",
    "            tile = img.crop(box)\n",
    "\n",
    "            # Convert the PIL image to a Tkinter PhotoImage\n",
    "            tile_photo = ImageTk.PhotoImage(tile)\n",
    "\n",
    "            # Create a label to display the tile\n",
    "            label = tk.Label(root, image=tile_photo)\n",
    "            label.photo = tile_photo  # Store the PhotoImage to prevent it from being garbage collected\n",
    "            label.grid(row=tile_number // 4, column=tile_number % 4)  # Arrange tiles in a grid\n",
    "\n",
    "            x += tile_size\n",
    "            tile_number += 1\n",
    "        y += tile_size\n",
    "        x = 0\n",
    "\n",
    "    root.mainloop()\n",
    "\n",
    "if __name__ == \"__main__\":\n",
    "    image_path = r\"image.dds\"\n",
    "    tile_size = 256\n",
    "    split_into_tiles(image_path, tile_size)\n",
    "\n"
   ]
  },
  {
   "cell_type": "code",
   "execution_count": null,
   "id": "8adf294c",
   "metadata": {},
   "outputs": [],
   "source": []
  }
 ],
 "metadata": {
  "kernelspec": {
   "display_name": "Python 3 (ipykernel)",
   "language": "python",
   "name": "python3"
  },
  "language_info": {
   "codemirror_mode": {
    "name": "ipython",
    "version": 3
   },
   "file_extension": ".py",
   "mimetype": "text/x-python",
   "name": "python",
   "nbconvert_exporter": "python",
   "pygments_lexer": "ipython3",
   "version": "3.9.13"
  }
 },
 "nbformat": 4,
 "nbformat_minor": 5
}
